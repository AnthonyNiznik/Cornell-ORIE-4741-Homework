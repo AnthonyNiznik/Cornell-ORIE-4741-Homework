{
 "cells": [
  {
   "cell_type": "markdown",
   "metadata": {},
   "source": [
    "Anthony Niznik"
   ]
  },
  {
   "cell_type": "code",
   "execution_count": 1,
   "metadata": {
    "collapsed": false
   },
   "outputs": [],
   "source": [
    "#Pkg.rm(\"LowRankModels\")"
   ]
  },
  {
   "cell_type": "code",
   "execution_count": 2,
   "metadata": {
    "collapsed": false
   },
   "outputs": [],
   "source": [
    "#Pkg.clone(\"http://github.com/madeleineudell/LowRankModels.jl\")"
   ]
  },
  {
   "cell_type": "code",
   "execution_count": 3,
   "metadata": {
    "collapsed": false
   },
   "outputs": [
    {
     "name": "stderr",
     "output_type": "stream",
     "text": [
      "WARNING: Method definition require(Symbol) in module Base at loading.jl:345 overwritten in module Main at /home/juser/.julia/v0.5/Requires/src/require.jl:12.\n"
     ]
    }
   ],
   "source": [
    "using DataFrames, PyPlot, ScikitLearn, LowRankModels"
   ]
  },
  {
   "cell_type": "markdown",
   "metadata": {},
   "source": [
    "Question 1"
   ]
  },
  {
   "cell_type": "markdown",
   "metadata": {},
   "source": [
    "Part C"
   ]
  },
  {
   "cell_type": "code",
   "execution_count": 4,
   "metadata": {
    "collapsed": false
   },
   "outputs": [
    {
     "data": {
      "text/plain": [
       "proxgrad_const (generic function with 1 method)"
      ]
     },
     "execution_count": 4,
     "metadata": {},
     "output_type": "execute_result"
    }
   ],
   "source": [
    "# module ProximalGradient\n",
    "\n",
    "using LowRankModels\n",
    "\n",
    "import LowRankModels: evaluate, grad\n",
    "evaluate(loss::Loss, X::Array{Float64,2}, w::Array{Float64,1}, y) = evaluate(loss, X*w, y)\n",
    "grad(loss::Loss, X::Array{Float64,2}, w::Array{Float64,1}, y) = X'*grad(loss, X*w, y)\n",
    "evaluate(loss::Loss, X::Array{Float64,2}, w::Array{Float64,2}, y) = evaluate(loss, X*w, y)\n",
    "grad(loss::Loss, X::Array{Float64,2}, w::Array{Float64,2}, y) = X'*grad(loss, X*w, y)\n",
    "\n",
    "export evaluate, grad, proxgrad, is_differentiable\n",
    "\n",
    "is_differentiable(l::QuadLoss) = true\n",
    "is_differentiable(l::L1Loss) = false\n",
    "is_differentiable(l::HuberLoss) = true\n",
    "is_differentiable(l::QuantileLoss) = false\n",
    "is_differentiable(l::PoissonLoss) = true\n",
    "is_differentiable(l::WeightedHingeLoss) = false\n",
    "is_differentiable(l::LogisticLoss) = true\n",
    "is_differentiable(l::OrdinalHingeLoss) = false\n",
    "is_differentiable(l::OrdisticLoss) = true\n",
    "is_differentiable(l::MultinomialOrdinalLoss) = true\n",
    "is_differentiable(l::BvSLoss) = is_differentiable(l.bin_loss)\n",
    "is_differentiable(l::MultinomialLoss) = true\n",
    "is_differentiable(l::OvALoss) = is_differentiable(l.bin_loss)\n",
    "is_differentiable(l::PeriodicLoss) = true\n",
    "\n",
    "function proxgrad(loss::Loss, args...; kwargs...)\n",
    "  return proxgrad_linesearch(loss, args...; kwargs...)\n",
    "  # if is_differentiable(loss)\n",
    "  #   return proxgrad_linesearch(loss, args...; kwargs...)\n",
    "  # else\n",
    "  #   return proxgrad_dec(loss, args...; kwargs...)\n",
    "  # end\n",
    "end\n",
    "\n",
    "function proxgrad_linesearch(loss::Loss, reg::Regularizer, X::Array{Float64,2}, y;\n",
    "                  maxiters = 100,\n",
    "                  stepsize = 1,\n",
    "                  w = (embedding_dim(loss)==1 ? zeros(size(X,2)) : zeros(size(X,2), embedding_dim(loss))),\n",
    "                  ch = ConvergenceHistory(\"proxgrad\"))\n",
    "    update_ch!(ch, 0, evaluate(loss, X, w, y) + evaluate(reg, w))\n",
    "    t = time()\n",
    "    for i=1:maxiters\n",
    "        # gradient\n",
    "        g = grad(loss, X, w, y)\n",
    "        # prox gradient step\n",
    "        neww = prox(reg, w - stepsize*g, stepsize)\n",
    "        # record objective value\n",
    "        curobj = evaluate(loss, X, neww, y) + evaluate(reg, neww)\n",
    "        if curobj > ch.objective[end]\n",
    "          stepsize *= .5\n",
    "        else\n",
    "          copy!(w, neww)\n",
    "          t, told = time(), t\n",
    "          update_ch!(ch, t - told, curobj)\n",
    "        end\n",
    "    end\n",
    "    return w\n",
    "end\n",
    "\n",
    "function proxgrad_dec(loss::Loss, reg::Regularizer, X::Array{Float64,2}, y;\n",
    "                  maxiters = 100,\n",
    "                  stepsize = 1,\n",
    "                  w = (embedding_dim(loss)==1 ? zeros(size(X,2)) : zeros(size(X,2), embedding_dim(loss))),\n",
    "                  ch = ConvergenceHistory(\"proxgrad\"),\n",
    "                  verbose = true)\n",
    "    wbest = copy(w)\n",
    "    update_ch!(ch, 0, evaluate(loss, X, w, y) + evaluate(reg, w))\n",
    "    t = time()\n",
    "    if verbose\n",
    "      println(\"using decreasing stepsize for nondifferentiable loss\")\n",
    "    end\n",
    "    for i=1:maxiters\n",
    "        # gradient\n",
    "        g = grad(loss, X, w, y)\n",
    "        # prox gradient step\n",
    "        w = prox(reg, w - stepsize/i*g, stepsize/i)\n",
    "        # record objective value\n",
    "        obj = evaluate(loss, X, w, y) + evaluate(reg, w)\n",
    "        if obj < ch.objective[end]\n",
    "          if verbose\n",
    "            println(\"found a better obj $obj\")\n",
    "          end\n",
    "          copy!(wbest, w)\n",
    "          update_ch!(ch, time() - t, obj)\n",
    "        end\n",
    "    end\n",
    "    return wbest\n",
    "end\n",
    "\n",
    "function proxgrad_const(loss::Loss, reg::Regularizer, X::Array{Float64,2}, y;\n",
    "                  maxiters = 100,\n",
    "                  stepsize = 1,\n",
    "                  w = (embedding_dim(loss)==1 ? zeros(size(X,2)) : zeros(size(X,2), embedding_dim(loss))),\n",
    "                  ch = ConvergenceHistory(\"proxgrad\"))\n",
    "    wbest = copy(w)\n",
    "    update_ch!(ch, 0, evaluate(loss, X, w, y) + evaluate(reg, w))\n",
    "    t = time()\n",
    "    for i=1:maxiters\n",
    "        # gradient\n",
    "        g = grad(loss, X, w, y)\n",
    "        # prox gradient step\n",
    "        w = prox(reg, w - stepsize*g, stepsize)\n",
    "        # record objective value\n",
    "        obj = evaluate(loss, X, w, y) + evaluate(reg, w)\n",
    "        if obj < ch.objective[end]\n",
    "          copy!(wbest, w)\n",
    "          update_ch!(ch, time() - t, obj)\n",
    "        end    end\n",
    "    return wbest\n",
    "end\n",
    "\n",
    "\n",
    "# end\n"
   ]
  },
  {
   "cell_type": "code",
   "execution_count": 5,
   "metadata": {
    "collapsed": false
   },
   "outputs": [
    {
     "data": {
      "text/html": [
       "<table class=\"data-frame\"><thead><tr><th></th><th>x1</th><th>x2</th><th>x3</th><th>x4</th><th>x5</th><th>x6</th><th>x7</th><th>x8</th><th>x9</th><th>x10</th></tr></thead><tbody><tr><th>1</th><td>-1</td><td>5</td><td>1</td><td>1</td><td>1</td><td>2</td><td>1</td><td>3</td><td>1</td><td>1</td></tr><tr><th>2</th><td>-1</td><td>5</td><td>4</td><td>4</td><td>5</td><td>7</td><td>10</td><td>3</td><td>2</td><td>1</td></tr><tr><th>3</th><td>-1</td><td>3</td><td>1</td><td>1</td><td>1</td><td>2</td><td>2</td><td>3</td><td>1</td><td>1</td></tr><tr><th>4</th><td>-1</td><td>6</td><td>8</td><td>8</td><td>1</td><td>3</td><td>4</td><td>3</td><td>7</td><td>1</td></tr><tr><th>5</th><td>-1</td><td>4</td><td>1</td><td>1</td><td>3</td><td>2</td><td>1</td><td>3</td><td>1</td><td>1</td></tr><tr><th>6</th><td>1</td><td>8</td><td>10</td><td>10</td><td>8</td><td>7</td><td>10</td><td>9</td><td>7</td><td>1</td></tr><tr><th>7</th><td>-1</td><td>1</td><td>1</td><td>1</td><td>1</td><td>2</td><td>10</td><td>3</td><td>1</td><td>1</td></tr><tr><th>8</th><td>-1</td><td>2</td><td>1</td><td>2</td><td>1</td><td>2</td><td>1</td><td>3</td><td>1</td><td>1</td></tr><tr><th>9</th><td>-1</td><td>2</td><td>1</td><td>1</td><td>1</td><td>2</td><td>1</td><td>1</td><td>1</td><td>5</td></tr><tr><th>10</th><td>-1</td><td>4</td><td>2</td><td>1</td><td>1</td><td>2</td><td>1</td><td>2</td><td>1</td><td>1</td></tr><tr><th>11</th><td>-1</td><td>1</td><td>1</td><td>1</td><td>1</td><td>1</td><td>1</td><td>3</td><td>1</td><td>1</td></tr><tr><th>12</th><td>-1</td><td>2</td><td>1</td><td>1</td><td>1</td><td>2</td><td>1</td><td>2</td><td>1</td><td>1</td></tr><tr><th>13</th><td>1</td><td>5</td><td>3</td><td>3</td><td>3</td><td>2</td><td>3</td><td>4</td><td>4</td><td>1</td></tr><tr><th>14</th><td>-1</td><td>1</td><td>1</td><td>1</td><td>1</td><td>2</td><td>3</td><td>3</td><td>1</td><td>1</td></tr><tr><th>15</th><td>1</td><td>8</td><td>7</td><td>5</td><td>10</td><td>7</td><td>9</td><td>5</td><td>5</td><td>4</td></tr><tr><th>16</th><td>1</td><td>7</td><td>4</td><td>6</td><td>4</td><td>6</td><td>1</td><td>4</td><td>3</td><td>1</td></tr><tr><th>17</th><td>-1</td><td>4</td><td>1</td><td>1</td><td>1</td><td>2</td><td>1</td><td>2</td><td>1</td><td>1</td></tr><tr><th>18</th><td>-1</td><td>4</td><td>1</td><td>1</td><td>1</td><td>2</td><td>1</td><td>3</td><td>1</td><td>1</td></tr><tr><th>19</th><td>1</td><td>10</td><td>7</td><td>7</td><td>6</td><td>4</td><td>10</td><td>4</td><td>1</td><td>2</td></tr><tr><th>20</th><td>-1</td><td>6</td><td>1</td><td>1</td><td>1</td><td>2</td><td>1</td><td>3</td><td>1</td><td>1</td></tr><tr><th>21</th><td>1</td><td>7</td><td>3</td><td>2</td><td>10</td><td>5</td><td>10</td><td>5</td><td>4</td><td>4</td></tr><tr><th>22</th><td>1</td><td>10</td><td>5</td><td>5</td><td>3</td><td>6</td><td>7</td><td>7</td><td>10</td><td>1</td></tr><tr><th>23</th><td>-1</td><td>3</td><td>1</td><td>1</td><td>1</td><td>2</td><td>1</td><td>2</td><td>1</td><td>1</td></tr><tr><th>24</th><td>-1</td><td>1</td><td>1</td><td>1</td><td>1</td><td>2</td><td>1</td><td>3</td><td>1</td><td>1</td></tr><tr><th>25</th><td>1</td><td>5</td><td>2</td><td>3</td><td>4</td><td>2</td><td>7</td><td>3</td><td>6</td><td>1</td></tr><tr><th>26</th><td>-1</td><td>3</td><td>2</td><td>1</td><td>1</td><td>1</td><td>1</td><td>2</td><td>1</td><td>1</td></tr><tr><th>27</th><td>-1</td><td>5</td><td>1</td><td>1</td><td>1</td><td>2</td><td>1</td><td>2</td><td>1</td><td>1</td></tr><tr><th>28</th><td>-1</td><td>2</td><td>1</td><td>1</td><td>1</td><td>2</td><td>1</td><td>2</td><td>1</td><td>1</td></tr><tr><th>29</th><td>-1</td><td>1</td><td>1</td><td>3</td><td>1</td><td>2</td><td>1</td><td>1</td><td>1</td><td>1</td></tr><tr><th>30</th><td>-1</td><td>3</td><td>1</td><td>1</td><td>1</td><td>1</td><td>1</td><td>2</td><td>1</td><td>1</td></tr><tr><th>&vellip;</th><td>&vellip;</td><td>&vellip;</td><td>&vellip;</td><td>&vellip;</td><td>&vellip;</td><td>&vellip;</td><td>&vellip;</td><td>&vellip;</td><td>&vellip;</td><td>&vellip;</td></tr></tbody></table>"
      ],
      "text/plain": [
       "683×10 DataFrames.DataFrame\n",
       "│ Row │ x1 │ x2 │ x3 │ x4 │ x5 │ x6 │ x7 │ x8 │ x9 │ x10 │\n",
       "├─────┼────┼────┼────┼────┼────┼────┼────┼────┼────┼─────┤\n",
       "│ 1   │ -1 │ 5  │ 1  │ 1  │ 1  │ 2  │ 1  │ 3  │ 1  │ 1   │\n",
       "│ 2   │ -1 │ 5  │ 4  │ 4  │ 5  │ 7  │ 10 │ 3  │ 2  │ 1   │\n",
       "│ 3   │ -1 │ 3  │ 1  │ 1  │ 1  │ 2  │ 2  │ 3  │ 1  │ 1   │\n",
       "│ 4   │ -1 │ 6  │ 8  │ 8  │ 1  │ 3  │ 4  │ 3  │ 7  │ 1   │\n",
       "│ 5   │ -1 │ 4  │ 1  │ 1  │ 3  │ 2  │ 1  │ 3  │ 1  │ 1   │\n",
       "│ 6   │ 1  │ 8  │ 10 │ 10 │ 8  │ 7  │ 10 │ 9  │ 7  │ 1   │\n",
       "│ 7   │ -1 │ 1  │ 1  │ 1  │ 1  │ 2  │ 10 │ 3  │ 1  │ 1   │\n",
       "│ 8   │ -1 │ 2  │ 1  │ 2  │ 1  │ 2  │ 1  │ 3  │ 1  │ 1   │\n",
       "│ 9   │ -1 │ 2  │ 1  │ 1  │ 1  │ 2  │ 1  │ 1  │ 1  │ 5   │\n",
       "│ 10  │ -1 │ 4  │ 2  │ 1  │ 1  │ 2  │ 1  │ 2  │ 1  │ 1   │\n",
       "│ 11  │ -1 │ 1  │ 1  │ 1  │ 1  │ 1  │ 1  │ 3  │ 1  │ 1   │\n",
       "⋮\n",
       "│ 672 │ -1 │ 3  │ 1  │ 1  │ 1  │ 2  │ 1  │ 2  │ 3  │ 1   │\n",
       "│ 673 │ -1 │ 4  │ 1  │ 1  │ 1  │ 2  │ 1  │ 1  │ 1  │ 1   │\n",
       "│ 674 │ -1 │ 1  │ 1  │ 1  │ 1  │ 2  │ 1  │ 1  │ 1  │ 8   │\n",
       "│ 675 │ -1 │ 1  │ 1  │ 1  │ 3  │ 2  │ 1  │ 1  │ 1  │ 1   │\n",
       "│ 676 │ 1  │ 5  │ 10 │ 10 │ 5  │ 4  │ 5  │ 4  │ 4  │ 1   │\n",
       "│ 677 │ -1 │ 3  │ 1  │ 1  │ 1  │ 2  │ 1  │ 1  │ 1  │ 1   │\n",
       "│ 678 │ -1 │ 3  │ 1  │ 1  │ 1  │ 2  │ 1  │ 2  │ 1  │ 2   │\n",
       "│ 679 │ -1 │ 3  │ 1  │ 1  │ 1  │ 3  │ 2  │ 1  │ 1  │ 1   │\n",
       "│ 680 │ -1 │ 2  │ 1  │ 1  │ 1  │ 2  │ 1  │ 1  │ 1  │ 1   │\n",
       "│ 681 │ 1  │ 5  │ 10 │ 10 │ 3  │ 7  │ 3  │ 8  │ 10 │ 2   │\n",
       "│ 682 │ 1  │ 4  │ 8  │ 6  │ 4  │ 3  │ 4  │ 10 │ 6  │ 1   │\n",
       "│ 683 │ 1  │ 4  │ 8  │ 8  │ 5  │ 4  │ 5  │ 10 │ 4  │ 1   │"
      ]
     },
     "execution_count": 5,
     "metadata": {},
     "output_type": "execute_result"
    }
   ],
   "source": [
    "cancer = readtable(\"breast-cancer.csv\", separator = '\\,', header = false)"
   ]
  },
  {
   "cell_type": "code",
   "execution_count": 6,
   "metadata": {
    "collapsed": false
   },
   "outputs": [
    {
     "data": {
      "text/plain": [
       "splitrandom (generic function with 1 method)"
      ]
     },
     "execution_count": 6,
     "metadata": {},
     "output_type": "execute_result"
    }
   ],
   "source": [
    "\n",
    "function splitrandom_indices(n::Integer, proportion::Real)\n",
    "    \n",
    "    include = zeros(342,1)\n",
    "    exclude = zeros(341,1)\n",
    "    \n",
    "    indices = Array(Int64, n) \n",
    "for i in 1:n\n",
    "        indices[i]= i\n",
    "end\n",
    "    shuffle!(indices)\n",
    "    #splitindex = iround(n * proportion)\n",
    "    \n",
    "    splitindex = 342\n",
    "    \n",
    "    for i = 1:splitindex\n",
    "        include[i] = indices[i]\n",
    "    end\n",
    "    \n",
    "      for i = splitindex: 683\n",
    "        j=1\n",
    "        exclude[j] = indices[i]\n",
    "        j=j+1\n",
    "    end\n",
    "    \n",
    "    return indices[1:splitindex], indices[(splitindex + 1):n]\n",
    "end\n",
    "\n",
    "function splitrandom(df::AbstractDataFrame, proportion::Real)\n",
    "    included, excluded = splitrandom_indices(size(df,1), proportion)\n",
    "    return df[included, :], df[excluded, :]\n",
    "end"
   ]
  },
  {
   "cell_type": "code",
   "execution_count": 7,
   "metadata": {
    "collapsed": false
   },
   "outputs": [
    {
     "data": {
      "text/html": [
       "<table class=\"data-frame\"><thead><tr><th></th><th>x1</th><th>x2</th><th>x3</th><th>x4</th><th>x5</th><th>x6</th><th>x7</th><th>x8</th><th>x9</th><th>x10</th></tr></thead><tbody><tr><th>1</th><td>-1</td><td>2</td><td>2</td><td>2</td><td>1</td><td>1</td><td>1</td><td>7</td><td>1</td><td>1</td></tr><tr><th>2</th><td>1</td><td>3</td><td>7</td><td>7</td><td>4</td><td>4</td><td>9</td><td>4</td><td>8</td><td>1</td></tr><tr><th>3</th><td>-1</td><td>1</td><td>1</td><td>1</td><td>1</td><td>2</td><td>1</td><td>3</td><td>1</td><td>1</td></tr><tr><th>4</th><td>-1</td><td>5</td><td>1</td><td>1</td><td>1</td><td>2</td><td>1</td><td>3</td><td>1</td><td>2</td></tr><tr><th>5</th><td>-1</td><td>5</td><td>1</td><td>1</td><td>1</td><td>2</td><td>1</td><td>2</td><td>1</td><td>1</td></tr><tr><th>6</th><td>1</td><td>8</td><td>10</td><td>10</td><td>10</td><td>8</td><td>10</td><td>10</td><td>7</td><td>3</td></tr><tr><th>7</th><td>1</td><td>8</td><td>8</td><td>9</td><td>4</td><td>5</td><td>10</td><td>7</td><td>8</td><td>1</td></tr><tr><th>8</th><td>1</td><td>5</td><td>3</td><td>3</td><td>1</td><td>3</td><td>3</td><td>3</td><td>3</td><td>3</td></tr><tr><th>9</th><td>-1</td><td>1</td><td>1</td><td>1</td><td>1</td><td>2</td><td>1</td><td>1</td><td>1</td><td>1</td></tr><tr><th>10</th><td>-1</td><td>5</td><td>1</td><td>1</td><td>1</td><td>2</td><td>1</td><td>1</td><td>1</td><td>1</td></tr><tr><th>11</th><td>-1</td><td>4</td><td>1</td><td>2</td><td>1</td><td>2</td><td>1</td><td>1</td><td>1</td><td>1</td></tr><tr><th>12</th><td>-1</td><td>4</td><td>4</td><td>4</td><td>2</td><td>2</td><td>3</td><td>2</td><td>1</td><td>1</td></tr><tr><th>13</th><td>-1</td><td>5</td><td>3</td><td>2</td><td>1</td><td>3</td><td>1</td><td>1</td><td>1</td><td>1</td></tr><tr><th>14</th><td>-1</td><td>3</td><td>1</td><td>1</td><td>1</td><td>2</td><td>1</td><td>2</td><td>1</td><td>1</td></tr><tr><th>15</th><td>-1</td><td>1</td><td>3</td><td>1</td><td>1</td><td>2</td><td>1</td><td>2</td><td>2</td><td>1</td></tr><tr><th>16</th><td>-1</td><td>5</td><td>1</td><td>2</td><td>1</td><td>2</td><td>1</td><td>3</td><td>1</td><td>1</td></tr><tr><th>17</th><td>1</td><td>10</td><td>4</td><td>2</td><td>1</td><td>3</td><td>2</td><td>4</td><td>3</td><td>10</td></tr><tr><th>18</th><td>1</td><td>5</td><td>7</td><td>4</td><td>1</td><td>6</td><td>1</td><td>7</td><td>10</td><td>3</td></tr><tr><th>19</th><td>-1</td><td>5</td><td>1</td><td>1</td><td>3</td><td>2</td><td>1</td><td>1</td><td>1</td><td>1</td></tr><tr><th>20</th><td>1</td><td>10</td><td>10</td><td>10</td><td>7</td><td>10</td><td>10</td><td>8</td><td>2</td><td>1</td></tr><tr><th>21</th><td>-1</td><td>1</td><td>1</td><td>1</td><td>1</td><td>2</td><td>1</td><td>2</td><td>1</td><td>1</td></tr><tr><th>22</th><td>1</td><td>10</td><td>10</td><td>10</td><td>1</td><td>6</td><td>1</td><td>2</td><td>8</td><td>1</td></tr><tr><th>23</th><td>-1</td><td>2</td><td>1</td><td>1</td><td>1</td><td>2</td><td>1</td><td>2</td><td>1</td><td>1</td></tr><tr><th>24</th><td>-1</td><td>4</td><td>1</td><td>1</td><td>1</td><td>2</td><td>1</td><td>3</td><td>2</td><td>1</td></tr><tr><th>25</th><td>-1</td><td>3</td><td>1</td><td>1</td><td>1</td><td>2</td><td>1</td><td>1</td><td>1</td><td>1</td></tr><tr><th>26</th><td>1</td><td>8</td><td>10</td><td>5</td><td>3</td><td>8</td><td>4</td><td>4</td><td>10</td><td>3</td></tr><tr><th>27</th><td>-1</td><td>5</td><td>1</td><td>1</td><td>1</td><td>2</td><td>1</td><td>2</td><td>2</td><td>1</td></tr><tr><th>28</th><td>-1</td><td>4</td><td>1</td><td>1</td><td>1</td><td>2</td><td>1</td><td>3</td><td>1</td><td>1</td></tr><tr><th>29</th><td>-1</td><td>3</td><td>1</td><td>1</td><td>1</td><td>2</td><td>2</td><td>7</td><td>1</td><td>1</td></tr><tr><th>30</th><td>-1</td><td>2</td><td>1</td><td>1</td><td>1</td><td>2</td><td>1</td><td>2</td><td>1</td><td>1</td></tr><tr><th>&vellip;</th><td>&vellip;</td><td>&vellip;</td><td>&vellip;</td><td>&vellip;</td><td>&vellip;</td><td>&vellip;</td><td>&vellip;</td><td>&vellip;</td><td>&vellip;</td><td>&vellip;</td></tr></tbody></table>"
      ],
      "text/plain": [
       "342×10 DataFrames.DataFrame\n",
       "│ Row │ x1 │ x2 │ x3 │ x4 │ x5 │ x6 │ x7 │ x8 │ x9 │ x10 │\n",
       "├─────┼────┼────┼────┼────┼────┼────┼────┼────┼────┼─────┤\n",
       "│ 1   │ -1 │ 2  │ 2  │ 2  │ 1  │ 1  │ 1  │ 7  │ 1  │ 1   │\n",
       "│ 2   │ 1  │ 3  │ 7  │ 7  │ 4  │ 4  │ 9  │ 4  │ 8  │ 1   │\n",
       "│ 3   │ -1 │ 1  │ 1  │ 1  │ 1  │ 2  │ 1  │ 3  │ 1  │ 1   │\n",
       "│ 4   │ -1 │ 5  │ 1  │ 1  │ 1  │ 2  │ 1  │ 3  │ 1  │ 2   │\n",
       "│ 5   │ -1 │ 5  │ 1  │ 1  │ 1  │ 2  │ 1  │ 2  │ 1  │ 1   │\n",
       "│ 6   │ 1  │ 8  │ 10 │ 10 │ 10 │ 8  │ 10 │ 10 │ 7  │ 3   │\n",
       "│ 7   │ 1  │ 8  │ 8  │ 9  │ 4  │ 5  │ 10 │ 7  │ 8  │ 1   │\n",
       "│ 8   │ 1  │ 5  │ 3  │ 3  │ 1  │ 3  │ 3  │ 3  │ 3  │ 3   │\n",
       "│ 9   │ -1 │ 1  │ 1  │ 1  │ 1  │ 2  │ 1  │ 1  │ 1  │ 1   │\n",
       "│ 10  │ -1 │ 5  │ 1  │ 1  │ 1  │ 2  │ 1  │ 1  │ 1  │ 1   │\n",
       "│ 11  │ -1 │ 4  │ 1  │ 2  │ 1  │ 2  │ 1  │ 1  │ 1  │ 1   │\n",
       "⋮\n",
       "│ 331 │ -1 │ 2  │ 1  │ 1  │ 1  │ 2  │ 1  │ 3  │ 1  │ 1   │\n",
       "│ 332 │ 1  │ 8  │ 10 │ 3  │ 2  │ 6  │ 4  │ 3  │ 10 │ 1   │\n",
       "│ 333 │ 1  │ 8  │ 3  │ 8  │ 3  │ 4  │ 9  │ 8  │ 9  │ 8   │\n",
       "│ 334 │ 1  │ 5  │ 5  │ 5  │ 8  │ 10 │ 8  │ 7  │ 3  │ 7   │\n",
       "│ 335 │ 1  │ 9  │ 10 │ 10 │ 1  │ 10 │ 8  │ 3  │ 3  │ 1   │\n",
       "│ 336 │ 1  │ 4  │ 8  │ 8  │ 5  │ 4  │ 5  │ 10 │ 4  │ 1   │\n",
       "│ 337 │ -1 │ 4  │ 1  │ 1  │ 1  │ 2  │ 1  │ 3  │ 1  │ 1   │\n",
       "│ 338 │ 1  │ 5  │ 7  │ 10 │ 6  │ 5  │ 10 │ 7  │ 5  │ 1   │\n",
       "│ 339 │ -1 │ 3  │ 1  │ 1  │ 1  │ 2  │ 1  │ 3  │ 1  │ 1   │\n",
       "│ 340 │ 1  │ 7  │ 3  │ 2  │ 10 │ 5  │ 10 │ 5  │ 4  │ 4   │\n",
       "│ 341 │ -1 │ 1  │ 1  │ 1  │ 1  │ 2  │ 4  │ 1  │ 1  │ 1   │\n",
       "│ 342 │ -1 │ 2  │ 1  │ 1  │ 1  │ 2  │ 1  │ 2  │ 2  │ 1   │"
      ]
     },
     "execution_count": 7,
     "metadata": {},
     "output_type": "execute_result"
    }
   ],
   "source": [
    "train_data, test_data = splitrandom(cancer, 0.5)\n",
    "train_data"
   ]
  },
  {
   "cell_type": "code",
   "execution_count": 8,
   "metadata": {
    "collapsed": false
   },
   "outputs": [
    {
     "data": {
      "text/plain": [
       "341-element DataArrays.DataArray{Int64,1}:\n",
       "  1\n",
       "  1\n",
       " -1\n",
       "  1\n",
       "  1\n",
       " -1\n",
       "  1\n",
       "  1\n",
       " -1\n",
       " -1\n",
       "  1\n",
       "  1\n",
       " -1\n",
       "  ⋮\n",
       " -1\n",
       " -1\n",
       " -1\n",
       "  1\n",
       " -1\n",
       " -1\n",
       " -1\n",
       " -1\n",
       " -1\n",
       " -1\n",
       " -1\n",
       " -1"
      ]
     },
     "execution_count": 8,
     "metadata": {},
     "output_type": "execute_result"
    }
   ],
   "source": [
    "X_train = train_data[:, 2:end]\n",
    "y_train = train_data[1]\n",
    "X_test = test_data[:, 2:end]\n",
    "y_test = test_data[1]"
   ]
  },
  {
   "cell_type": "code",
   "execution_count": null,
   "metadata": {
    "collapsed": true
   },
   "outputs": [],
   "source": []
  },
  {
   "cell_type": "code",
   "execution_count": 9,
   "metadata": {
    "collapsed": false
   },
   "outputs": [
    {
     "data": {
      "text/plain": [
       "341-element Array{Int64,1}:\n",
       "  1\n",
       "  1\n",
       " -1\n",
       "  1\n",
       "  1\n",
       " -1\n",
       "  1\n",
       "  1\n",
       " -1\n",
       " -1\n",
       "  1\n",
       "  1\n",
       " -1\n",
       "  ⋮\n",
       " -1\n",
       " -1\n",
       " -1\n",
       "  1\n",
       " -1\n",
       " -1\n",
       " -1\n",
       " -1\n",
       " -1\n",
       " -1\n",
       " -1\n",
       " -1"
      ]
     },
     "execution_count": 9,
     "metadata": {},
     "output_type": "execute_result"
    }
   ],
   "source": [
    "X_train_A = convert(Array{Float64,2},X_train)\n",
    "y_train_A = convert(Array{Int64},y_train)\n",
    "\n",
    "X_test_A = convert(Array{Float64,2},X_test)\n",
    "y_test_A = convert(Array{Int64},y_test)"
   ]
  },
  {
   "cell_type": "code",
   "execution_count": 10,
   "metadata": {
    "collapsed": false
   },
   "outputs": [
    {
     "data": {
      "text/plain": [
       "9.685477070360733e-6"
      ]
     },
     "execution_count": 10,
     "metadata": {},
     "output_type": "execute_result"
    }
   ],
   "source": [
    "#Lipshitz Constant\n",
    "L = 1/(2*norm(X_train_A)^2)\n"
   ]
  },
  {
   "cell_type": "code",
   "execution_count": 11,
   "metadata": {
    "collapsed": false
   },
   "outputs": [
    {
     "data": {
      "text/plain": [
       "9-element Array{Float64,1}:\n",
       " -0.295487 \n",
       "  0.696902 \n",
       "  0.372876 \n",
       "  0.0688191\n",
       " -0.64203  \n",
       "  0.5513   \n",
       " -0.554788 \n",
       "  0.245235 \n",
       " -0.203072 "
      ]
     },
     "execution_count": 11,
     "metadata": {},
     "output_type": "execute_result"
    }
   ],
   "source": [
    "#Logistic\n",
    "wʰ = proxgrad(HingeLoss(), QuadReg(), X_train_A, y_train_A; maxiters = 10000, stepsize = L)\n",
    "wˡ = proxgrad(LogisticLoss(), QuadReg(), X_train_A, y_train_A; maxiters = 10000, stepsize = L)\n",
    "\n"
   ]
  },
  {
   "cell_type": "markdown",
   "metadata": {},
   "source": [
    "Part D"
   ]
  },
  {
   "cell_type": "code",
   "execution_count": 12,
   "metadata": {
    "collapsed": false
   },
   "outputs": [
    {
     "ename": "LoadError",
     "evalue": "LoadError: UndefVarError: pred_hinge not defined\nwhile loading In[12], in expression starting on line 1",
     "output_type": "error",
     "traceback": [
      "LoadError: UndefVarError: pred_hinge not defined\nwhile loading In[12], in expression starting on line 1",
      ""
     ]
    }
   ],
   "source": [
    "size(pred_hinge,1)"
   ]
  },
  {
   "cell_type": "code",
   "execution_count": 26,
   "metadata": {
    "collapsed": false
   },
   "outputs": [
    {
     "data": {
      "text/plain": [
       "0.1348973607038123"
      ]
     },
     "execution_count": 26,
     "metadata": {},
     "output_type": "execute_result"
    }
   ],
   "source": [
    "pred_hinge = sign(X_test_A*wʰ)\n",
    "pred_logistic = sign(X_test_A*wˡ)\n",
    "\n",
    "rate_hinge = 0\n",
    "rate_logistic = 0\n",
    "\n",
    "for i = 1:size(pred_logistic,1)\n",
    "    if pred_hinge[i] != y_test_A[i]\n",
    "        rate_hinge = rate_hinge + 1\n",
    "    end\n",
    "    \n",
    "    if pred_logistic[i] != y_test_A[i]\n",
    "        rate_logistic = rate_logistic + 1\n",
    "    end\n",
    "end\n",
    "\n",
    "Misclassification_Rate_Hinge = rate_hinge/size(pred_hinge,1)\n",
    "Misclassification_Rate_Logistic = rate_logistic/size(pred_logistic,1)\n",
    "\n",
    "Misclassification_Rate_Hinge\n",
    "Misclassification_Rate_Logistic"
   ]
  },
  {
   "cell_type": "markdown",
   "metadata": {},
   "source": [
    "Misclassification_Rate_Hinge = 0.1466275659824047\n",
    "\n",
    "Misclassification_Rate_Logistic = 0.1495601173020528\n",
    "\n",
    "Hinge does a better job of classification."
   ]
  },
  {
   "cell_type": "markdown",
   "metadata": {},
   "source": [
    "Part E"
   ]
  },
  {
   "cell_type": "markdown",
   "metadata": {},
   "source": [
    "Logistic loss does not have a normalizing constant because it is smooth and differentiable at all points. Also, when you can integrate its pdf and see that it integrates to one which means it is a real probability distribution function. This means that it naturally creates probabilities for classification. "
   ]
  },
  {
   "cell_type": "markdown",
   "metadata": {},
   "source": [
    "Part F"
   ]
  },
  {
   "cell_type": "code",
   "execution_count": 14,
   "metadata": {
    "collapsed": false
   },
   "outputs": [
    {
     "ename": "LoadError",
     "evalue": "LoadError: UndefVarError: model_hinge not defined\nwhile loading In[14], in expression starting on line 3",
     "output_type": "error",
     "traceback": [
      "LoadError: UndefVarError: model_hinge not defined\nwhile loading In[14], in expression starting on line 3",
      "",
      " in macro expansion; at ./In[14]:5 [inlined]",
      " in anonymous at ./<missing>:?"
     ]
    }
   ],
   "source": [
    "z_new=0\n",
    "z_old=0\n",
    "for i = 1:size(y_test_A,1)\n",
    "    \n",
    "    z_old = exp(-1*(evaluate(HingeLoss(), model_hinge[i], 1))) + exp(-1*(evaluate(HingeLoss(), model_hinge[i], -1)))\n",
    "    z_new = z_new + z_old\n",
    "    \n",
    "end"
   ]
  },
  {
   "cell_type": "code",
   "execution_count": 15,
   "metadata": {
    "collapsed": false
   },
   "outputs": [
    {
     "data": {
      "text/plain": [
       "Inf"
      ]
     },
     "execution_count": 15,
     "metadata": {},
     "output_type": "execute_result"
    }
   ],
   "source": [
    "#X_test_A*wʰ\n",
    "logl = 0\n",
    "likelihood_logistic = 0\n",
    "logh = 0\n",
    "likelihood_hinge = 0\n",
    "z = z_new / size(y_test_A,1)\n",
    "model_log = X_test_A*wˡ\n",
    "model_hinge = X_test_A*wʰ\n",
    "\n",
    "for i = 1:size(y_test_A,1)\n",
    "    \n",
    "    logl = -(evaluate(LogisticLoss(), model_log[i], y_test_A[i]))\n",
    "    likelihood_logistic = likelihood_logistic + logl\n",
    "    \n",
    "end\n",
    "\n",
    "for i = 1:size(y_test_A,1)\n",
    "    \n",
    "    logh = log((1/z)*exp(-1*(evaluate(HingeLoss(), model_hinge[i], y_test_A[i]))))\n",
    "    likelihood_hinge = likelihood_hinge + logh\n",
    "    \n",
    "end\n",
    "\n",
    "likelihood_logistic\n",
    "likelihood_hinge"
   ]
  },
  {
   "cell_type": "markdown",
   "metadata": {},
   "source": [
    "likelihood_logistic = -175.79344455713954\n",
    "likelihood_hinge = -169.57714215306166"
   ]
  },
  {
   "cell_type": "markdown",
   "metadata": {},
   "source": [
    "The log likelihood of hinge is larger."
   ]
  },
  {
   "cell_type": "markdown",
   "metadata": {},
   "source": [
    "Problem 3"
   ]
  },
  {
   "cell_type": "code",
   "execution_count": 16,
   "metadata": {
    "collapsed": false,
    "scrolled": true
   },
   "outputs": [
    {
     "data": {
      "text/html": [
       "<table class=\"data-frame\"><thead><tr><th></th><th>MaritalStatus</th><th>PrenatalCare</th><th>Male</th><th>Weight</th></tr></thead><tbody><tr><th>1</th><td>0</td><td>1</td><td>0</td><td>3326</td></tr><tr><th>2</th><td>1</td><td>0</td><td>0</td><td>1340</td></tr><tr><th>3</th><td>0</td><td>0</td><td>0</td><td>3033</td></tr><tr><th>4</th><td>1</td><td>1</td><td>1</td><td>3884</td></tr><tr><th>5</th><td>0</td><td>0</td><td>0</td><td>3108</td></tr><tr><th>6</th><td>1</td><td>1</td><td>1</td><td>3912</td></tr><tr><th>7</th><td>1</td><td>1</td><td>1</td><td>2546</td></tr><tr><th>8</th><td>1</td><td>1</td><td>1</td><td>4545</td></tr><tr><th>9</th><td>0</td><td>1</td><td>0</td><td>3402</td></tr><tr><th>10</th><td>1</td><td>1</td><td>1</td><td>3884</td></tr><tr><th>11</th><td>0</td><td>1</td><td>1</td><td>3232</td></tr><tr><th>12</th><td>0</td><td>1</td><td>0</td><td>4000</td></tr><tr><th>13</th><td>0</td><td>0</td><td>1</td><td>2790</td></tr><tr><th>14</th><td>1</td><td>1</td><td>1</td><td>4139</td></tr><tr><th>15</th><td>0</td><td>0</td><td>1</td><td>3374</td></tr><tr><th>16</th><td>0</td><td>0</td><td>0</td><td>2778</td></tr><tr><th>17</th><td>1</td><td>1</td><td>1</td><td>4082</td></tr><tr><th>18</th><td>1</td><td>1</td><td>0</td><td>3751</td></tr><tr><th>19</th><td>1</td><td>0</td><td>1</td><td>3388</td></tr><tr><th>20</th><td>1</td><td>1</td><td>1</td><td>3480</td></tr><tr><th>21</th><td>1</td><td>1</td><td>1</td><td>3118</td></tr><tr><th>22</th><td>1</td><td>1</td><td>1</td><td>3130</td></tr><tr><th>23</th><td>0</td><td>0</td><td>1</td><td>3758</td></tr><tr><th>24</th><td>1</td><td>1</td><td>0</td><td>3515</td></tr><tr><th>25</th><td>1</td><td>1</td><td>1</td><td>3345</td></tr><tr><th>26</th><td>0</td><td>1</td><td>1</td><td>3544</td></tr><tr><th>27</th><td>0</td><td>0</td><td>1</td><td>3289</td></tr><tr><th>28</th><td>0</td><td>1</td><td>0</td><td>2777</td></tr><tr><th>29</th><td>1</td><td>1</td><td>0</td><td>3515</td></tr><tr><th>30</th><td>1</td><td>1</td><td>0</td><td>3612</td></tr><tr><th>&vellip;</th><td>&vellip;</td><td>&vellip;</td><td>&vellip;</td><td>&vellip;</td></tr></tbody></table>"
      ],
      "text/plain": [
       "9322×4 DataFrames.DataFrame\n",
       "│ Row  │ MaritalStatus │ PrenatalCare │ Male │ Weight │\n",
       "├──────┼───────────────┼──────────────┼──────┼────────┤\n",
       "│ 1    │ 0             │ 1            │ 0    │ 3326   │\n",
       "│ 2    │ 1             │ 0            │ 0    │ 1340   │\n",
       "│ 3    │ 0             │ 0            │ 0    │ 3033   │\n",
       "│ 4    │ 1             │ 1            │ 1    │ 3884   │\n",
       "│ 5    │ 0             │ 0            │ 0    │ 3108   │\n",
       "│ 6    │ 1             │ 1            │ 1    │ 3912   │\n",
       "│ 7    │ 1             │ 1            │ 1    │ 2546   │\n",
       "│ 8    │ 1             │ 1            │ 1    │ 4545   │\n",
       "│ 9    │ 0             │ 1            │ 0    │ 3402   │\n",
       "│ 10   │ 1             │ 1            │ 1    │ 3884   │\n",
       "│ 11   │ 0             │ 1            │ 1    │ 3232   │\n",
       "⋮\n",
       "│ 9311 │ 1             │ 1            │ 1    │ 3416   │\n",
       "│ 9312 │ 1             │ 1            │ 1    │ 3543   │\n",
       "│ 9313 │ 0             │ 1            │ 1    │ 3850   │\n",
       "│ 9314 │ 0             │ 1            │ 1    │ 3700   │\n",
       "│ 9315 │ 1             │ 1            │ 0    │ 2730   │\n",
       "│ 9316 │ 0             │ 0            │ 0    │ 3691   │\n",
       "│ 9317 │ 1             │ 1            │ 0    │ 3491   │\n",
       "│ 9318 │ 1             │ 1            │ 0    │ 3062   │\n",
       "│ 9319 │ 0             │ 1            │ 1    │ 3557   │\n",
       "│ 9320 │ 0             │ 1            │ 0    │ 2381   │\n",
       "│ 9321 │ 1             │ 1            │ 1    │ 3160   │\n",
       "│ 9322 │ 0             │ 1            │ 1    │ 3680   │"
      ]
     },
     "execution_count": 16,
     "metadata": {},
     "output_type": "execute_result"
    }
   ],
   "source": [
    "birth = readtable(\"birthSample.txt\", separator = '\\t')"
   ]
  },
  {
   "cell_type": "code",
   "execution_count": null,
   "metadata": {
    "collapsed": true
   },
   "outputs": [],
   "source": []
  },
  {
   "cell_type": "markdown",
   "metadata": {},
   "source": [
    "# a) Fit an ordinary least squares regression to the data. Interpret the coefficients that you find"
   ]
  },
  {
   "cell_type": "code",
   "execution_count": 17,
   "metadata": {
    "collapsed": false
   },
   "outputs": [
    {
     "data": {
      "text/plain": [
       "4-element Array{Float64,1}:\n",
       "  101.362 \n",
       "   73.0585\n",
       "  124.357 \n",
       " 3138.93  "
      ]
     },
     "execution_count": 17,
     "metadata": {},
     "output_type": "execute_result"
    }
   ],
   "source": [
    "n = size(birth,1)\n",
    "X = [birth[:MaritalStatus].data birth[:PrenatalCare].data birth[:Male].data ones(n)]\n",
    "y = birth[:Weight].data\n",
    "w=X\\y"
   ]
  },
  {
   "cell_type": "markdown",
   "metadata": {},
   "source": [
    "1st coefficient: This means that if the parents of the baby are married, then the baby will weigh on average 101.362 grams more. 2nd coefficient: This means that if the mother received prenatal care, then the baby will weigh on average 73.0585 grams more. 3rd coefficient: This means that if the baby is male, then the baby will weigh on average 124.357 grams more than a female.\n",
    "4th coefficient: This means that on average a baby weighs 3138.93 grams when the baby is female, did not have prenatal care, and had unmmarried parents. "
   ]
  },
  {
   "cell_type": "markdown",
   "metadata": {},
   "source": [
    "# b) Fit a quantile regression on the data with $q=0.05$ and $q=0.95$. Compare these coefficients to those you found in part a)."
   ]
  },
  {
   "cell_type": "code",
   "execution_count": 18,
   "metadata": {
    "collapsed": false
   },
   "outputs": [
    {
     "name": "stderr",
     "output_type": "stream",
     "text": [
      "WARNING: Method definition (::Type{LowRankModels.QuantileLoss})() in module LowRankModels at /home/juser/.julia/v0.5/LowRankModels/src/losses.jl:184 overwritten in module Main at In[18]:1.\n",
      "WARNING: Method definition (::Type{LowRankModels.QuantileLoss})(Any) in module LowRankModels at /home/juser/.julia/v0.5/LowRankModels/src/losses.jl:184 overwritten in module Main at In[18]:1.\n",
      "WARNING: Method definition Type(Array{Any, 1}, Type{LowRankModels.QuantileLoss}) in module LowRankModels overwritten in module Main.\n",
      "WARNING: Method definition Type(Array{Any, 1}, Type{LowRankModels.QuantileLoss}, Any) in module LowRankModels overwritten in module Main.\n"
     ]
    },
    {
     "data": {
      "text/plain": [
       "4-element Array{Float64,1}:\n",
       "  237.375\n",
       "  161.725\n",
       "   61.025\n",
       " 2120.55 "
      ]
     },
     "execution_count": 18,
     "metadata": {},
     "output_type": "execute_result"
    }
   ],
   "source": [
    "QuantileLoss(scale=1.0::Float64; domain=RealDomain(), quantile=.05::Float64) = QuantileLoss(scale, domain, quantile)\n",
    "w_q5 = proxgrad(QuantileLoss(), ZeroReg(), X, y;)"
   ]
  },
  {
   "cell_type": "code",
   "execution_count": 19,
   "metadata": {
    "collapsed": false
   },
   "outputs": [
    {
     "name": "stderr",
     "output_type": "stream",
     "text": [
      "WARNING: Method definition (::Type{LowRankModels.QuantileLoss})() in module Main at In[18]:1 overwritten at In[19]:1.\n",
      "WARNING: Method definition (::Type{LowRankModels.QuantileLoss})(Any) in module Main at In[18]:1 overwritten at In[19]:1.\n",
      "WARNING: Method definition Type(Array{Any, 1}, Type{LowRankModels.QuantileLoss}) in module Main overwritten.\n",
      "WARNING: Method definition Type(Array{Any, 1}, Type{LowRankModels.QuantileLoss}, Any) in module Main overwritten.\n"
     ]
    },
    {
     "data": {
      "text/plain": [
       "4-element Array{Float64,1}:\n",
       "   82.3672\n",
       "   67.3422\n",
       "  198.744 \n",
       " 3932.29  "
      ]
     },
     "execution_count": 19,
     "metadata": {},
     "output_type": "execute_result"
    }
   ],
   "source": [
    "QuantileLoss(scale=1.0::Float64; domain=RealDomain(), quantile=.95::Float64) = QuantileLoss(scale, domain, quantile)\n",
    "w_q95 = proxgrad(QuantileLoss(), ZeroReg(), X, y;)"
   ]
  },
  {
   "cell_type": "markdown",
   "metadata": {},
   "source": [
    "These models predict how much a baby weighs that lies in the kth percentile of the baby weight distribution. The least squares predicts the average baby weight while these models predict the kth percentile of baby weight. We see that for the 5th percentile babies that the intercept is lower than the least squares prediction and that the parents being married and prenatal care has a bigger affect on baby weight too. Whether the baby is male of female has less of an effect for the 5th percentile than for least squares.\n",
    "\n",
    "For the 95th percentile, the intercept starts much higher than the least squares intercept. Also, marital status and prenatal care have less of an effect on baby weight for the 95th percentile than for least squares prediction. However, the gender of the baby has more of an effect on average for the 95th percentile than for the least squares prediction."
   ]
  },
  {
   "cell_type": "markdown",
   "metadata": {
    "collapsed": true
   },
   "source": [
    "# c) Fit quantile regressions for $q=0.05, 0.10, \\cdots, 0.95$."
   ]
  },
  {
   "cell_type": "code",
   "execution_count": 20,
   "metadata": {
    "collapsed": false
   },
   "outputs": [],
   "source": [
    "Marital = Float64[]\n",
    "Prenatal = Float64[]\n",
    "M = Float64[]\n",
    "Intercept = Float64[]\n",
    "w_new = 0\n",
    "\n",
    "#for Q in quantiles\n",
    "for i = 1:19\n",
    "    \n",
    "    w_new = proxgrad(QuantileLoss(quantile=0.05*i), ZeroReg(), X, y)\n",
    "    \n",
    "      push!(Marital, w_new[1])\n",
    "      push!(Prenatal, w_new[2])\n",
    "      push!(M, w_new[3])\n",
    "      push!(Intercept, w_new[4])\n",
    "    \n",
    "end\n",
    "\n"
   ]
  },
  {
   "cell_type": "markdown",
   "metadata": {
    "collapsed": true
   },
   "source": [
    "# d) Create an intercept plot that plots quantiles against the intercept coefficient from that quantile regression. Create coefficient plots for MaritalStatus, Male, and PrenatalCare coefficients.\n"
   ]
  },
  {
   "cell_type": "code",
   "execution_count": 21,
   "metadata": {
    "collapsed": false
   },
   "outputs": [
    {
     "data": {
      "image/png": "[encoded data removed]",
      "text/plain": [
       "PyPlot.Figure(PyObject <matplotlib.figure.Figure object at 0x7f3660a18690>)"
      ]
     },
     "metadata": {},
     "output_type": "display_data"
    }
   ],
   "source": [
    "Quantile_Range = []\n",
    "\n",
    "for i = 1:19\n",
    "    j = 0.05*i\n",
    "    push!(Quantile_Range,j)\n",
    "end\n",
    "Quantile_Range\n",
    "plot(Quantile_Range, Marital)\n",
    "grid(\"on\")"
   ]
  },
  {
   "cell_type": "markdown",
   "metadata": {},
   "source": [
    "As the quantile increases, marital status has less of an effect on baby weight on average."
   ]
  },
  {
   "cell_type": "code",
   "execution_count": 22,
   "metadata": {
    "collapsed": false
   },
   "outputs": [
    {
     "data": {
      "image/png": "[encoded data removed]",
      "text/plain": [
       "PyPlot.Figure(PyObject <matplotlib.figure.Figure object at 0x7f3660166d50>)"
      ]
     },
     "metadata": {},
     "output_type": "display_data"
    }
   ],
   "source": [
    "plot(Quantile_Range, Prenatal)\n",
    "grid(\"on\")"
   ]
  },
  {
   "cell_type": "markdown",
   "metadata": {},
   "source": [
    "As the quantile increases, prenatal care has less of an effect on baby weight on average."
   ]
  },
  {
   "cell_type": "code",
   "execution_count": 23,
   "metadata": {
    "collapsed": false
   },
   "outputs": [
    {
     "data": {
      "image/png": "[encoded data removed]",
      "text/plain": [
       "PyPlot.Figure(PyObject <matplotlib.figure.Figure object at 0x7f3660254f50>)"
      ]
     },
     "metadata": {},
     "output_type": "display_data"
    }
   ],
   "source": [
    "plot(Quantile_Range, M)\n",
    "grid(\"on\")"
   ]
  },
  {
   "cell_type": "markdown",
   "metadata": {},
   "source": [
    "As the quantile increases, gender has more of an effect on baby weight on average (weight increases if the baby is male on average)."
   ]
  },
  {
   "cell_type": "code",
   "execution_count": 24,
   "metadata": {
    "collapsed": false
   },
   "outputs": [
    {
     "data": {
      "image/png": "[encoded data removed]",
      "text/plain": [
       "PyPlot.Figure(PyObject <matplotlib.figure.Figure object at 0x7f3660023c90>)"
      ]
     },
     "metadata": {},
     "output_type": "display_data"
    }
   ],
   "source": [
    "plot(Quantile_Range, Intercept)\n",
    "grid(\"on\")"
   ]
  },
  {
   "cell_type": "markdown",
   "metadata": {},
   "source": [
    "# e) How should you interpret the intercepts of the quantile regressions?"
   ]
  },
  {
   "cell_type": "markdown",
   "metadata": {
    "collapsed": true
   },
   "source": [
    "The intercept is the baseline weight of babies on average when the baby is female, did not have prenatal care, and had unmmarried parents. As the quantile increases, the average baby weight increases."
   ]
  },
  {
   "cell_type": "markdown",
   "metadata": {},
   "source": [
    "# f) What does the coefficient plot tell you about the effect of prenatal care for infants with low birth weight compared to those with average birth weights?"
   ]
  },
  {
   "cell_type": "markdown",
   "metadata": {
    "collapsed": true
   },
   "source": [
    "Prenatal care has more of an effect on babies weight on average if the baby is lower in birth weight as compared to babies with average birth rate."
   ]
  }
 ],
 "metadata": {
  "kernelspec": {
   "display_name": "Julia 0.5.0",
   "language": "julia",
   "name": "julia-0.5"
  },
  "language_info": {
   "file_extension": ".jl",
   "mimetype": "application/julia",
   "name": "julia",
   "version": "0.5.0"
  }
 },
 "nbformat": 4,
 "nbformat_minor": 0
}
